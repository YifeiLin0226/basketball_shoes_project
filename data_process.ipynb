{
 "cells": [
  {
   "cell_type": "code",
   "execution_count": 1,
   "id": "25c007da",
   "metadata": {},
   "outputs": [],
   "source": [
    "import pandas as pd"
   ]
  },
  {
   "cell_type": "code",
   "execution_count": 2,
   "id": "f7d968e7",
   "metadata": {},
   "outputs": [],
   "source": [
    "df = pd.read_csv(\"data/2025 HOOP SHEET.csv\")"
   ]
  },
  {
   "cell_type": "code",
   "execution_count": 3,
   "id": "380d6eca",
   "metadata": {},
   "outputs": [
    {
     "name": "stdout",
     "output_type": "stream",
     "text": [
      "NAME\n",
      "30 SEC HEATING (F) (INTERNAL)\n",
      "BOUNCE HEIGHT AVERAGE (cm)\n",
      "HEEL HEIGHT (cm)\n",
      "HEEL-BALL DROP (cm)\n",
      "WEIGHT oz/g (US MEN'S 11)\n",
      "DEGREE OF SLIP\n",
      "SHANK SCORE\n",
      "SPEED RATIO\n",
      "DUROMETER\n",
      "LAST SHAPE (DEGREE OF INFLARE)\n",
      "LENGTH (cm)\n",
      "METATARSAL WIDTH(cm)\n",
      "TOEBOX WIDTH(cm)\n",
      "TOE BOX TAPER (DEGREES)\n",
      "RESTING POSITION (DEGREES OF EVERSION)\n",
      "LOADED POSITION (DEGREES OF EVERSION)\n",
      "HEEL WIDTH (cm)\n",
      "NARROWEST MIDFOOT MEASUREMENT (cm)\n",
      "URS\n",
      "MIDSOLE FOAM\n",
      "ARCH TYPES F = FLAT N = NEUTRAL H = HIGH\n",
      "SHANK MATERIAL\n",
      "UPPER DURABILITY 0 = NOT THROUGH 1ST LAYER 1 = THROUGH 1ST LAYER\n",
      "OUTSOLE DURABILITY\n",
      "BEST SURFACE\n",
      "CONTAINMENT\n",
      "BOUNCE\n",
      "SA\n",
      "SPEED\n",
      "DURABILITY\n",
      "COMFORT\n",
      "SUPPORT\n",
      "PLAYABILITY\n",
      "FITS ORTHOTICS\n"
     ]
    }
   ],
   "source": [
    "columns = df.columns.tolist()\n",
    "for i in range(len(columns)):\n",
    "    temp = columns[i].strip().replace(\"\\n\", \" \").split()\n",
    "    columns[i] = \" \".join(temp)\n",
    "    print(columns[i])"
   ]
  },
  {
   "cell_type": "code",
   "execution_count": 4,
   "id": "e4e27032",
   "metadata": {},
   "outputs": [],
   "source": [
    "df.columns = columns"
   ]
  },
  {
   "cell_type": "code",
   "execution_count": 5,
   "id": "43299fea",
   "metadata": {},
   "outputs": [
    {
     "data": {
      "text/plain": [
       "NAME                                                                 object\n",
       "30 SEC HEATING (F) (INTERNAL)                                        object\n",
       "BOUNCE HEIGHT AVERAGE (cm)                                          float64\n",
       "HEEL HEIGHT (cm)                                                     object\n",
       "HEEL-BALL DROP (cm)                                                  object\n",
       "WEIGHT oz/g (US MEN'S 11)                                            object\n",
       "DEGREE OF SLIP                                                       object\n",
       "SHANK SCORE                                                         float64\n",
       "SPEED RATIO                                                          object\n",
       "DUROMETER                                                            object\n",
       "LAST SHAPE (DEGREE OF INFLARE)                                       object\n",
       "LENGTH (cm)                                                         float64\n",
       "METATARSAL WIDTH(cm)                                                float64\n",
       "TOEBOX WIDTH(cm)                                                    float64\n",
       "TOE BOX TAPER (DEGREES)                                             float64\n",
       "RESTING POSITION (DEGREES OF EVERSION)                              float64\n",
       "LOADED POSITION (DEGREES OF EVERSION)                               float64\n",
       "HEEL WIDTH (cm)                                                     float64\n",
       "NARROWEST MIDFOOT MEASUREMENT (cm)                                  float64\n",
       "URS                                                                 float64\n",
       "MIDSOLE FOAM                                                         object\n",
       "ARCH TYPES F = FLAT N = NEUTRAL H = HIGH                             object\n",
       "SHANK MATERIAL                                                       object\n",
       "UPPER DURABILITY 0 = NOT THROUGH 1ST LAYER 1 = THROUGH 1ST LAYER    float64\n",
       "OUTSOLE DURABILITY                                                   object\n",
       "BEST SURFACE                                                         object\n",
       "CONTAINMENT                                                         float64\n",
       "BOUNCE                                                              float64\n",
       "SA                                                                  float64\n",
       "SPEED                                                               float64\n",
       "DURABILITY                                                          float64\n",
       "COMFORT                                                             float64\n",
       "SUPPORT                                                             float64\n",
       "PLAYABILITY                                                         float64\n",
       "FITS ORTHOTICS                                                       object\n",
       "dtype: object"
      ]
     },
     "execution_count": 5,
     "metadata": {},
     "output_type": "execute_result"
    }
   ],
   "source": [
    "df.dtypes"
   ]
  },
  {
   "cell_type": "code",
   "execution_count": 6,
   "id": "a1ed34b9",
   "metadata": {},
   "outputs": [],
   "source": [
    "df.loc[df[\"30 SEC HEATING (F) (INTERNAL)\"] == \"99.7/109.8\", \"30 SEC HEATING (F) (INTERNAL)\"] = \"109.8\"\n",
    "df['30 SEC HEATING (F) (INTERNAL)'] = df['30 SEC HEATING (F) (INTERNAL)'].astype(float)\n",
    "   "
   ]
  },
  {
   "cell_type": "code",
   "execution_count": 7,
   "id": "3d8ce7fe",
   "metadata": {},
   "outputs": [],
   "source": [
    "def convert_to_float(value):\n",
    "    if isinstance(value, str):\n",
    "        value = value.split(\"(\")[0].strip()\n",
    "    return float(value)\n",
    "\n",
    "df['HEEL HEIGHT (cm)'] = df['HEEL HEIGHT (cm)'].apply(convert_to_float)"
   ]
  },
  {
   "cell_type": "code",
   "execution_count": 8,
   "id": "9a61a978",
   "metadata": {},
   "outputs": [],
   "source": [
    "df['BOUNCE HEIGHT AVERAGE (cm)'] = df['BOUNCE HEIGHT AVERAGE (cm)'].astype(float)"
   ]
  },
  {
   "cell_type": "code",
   "execution_count": 9,
   "id": "f782d2f4",
   "metadata": {},
   "outputs": [],
   "source": [
    "df['HEEL-BALL DROP (cm)'] = df['HEEL-BALL DROP (cm)'].apply(convert_to_float)"
   ]
  },
  {
   "cell_type": "code",
   "execution_count": 10,
   "id": "4f5f73ff",
   "metadata": {},
   "outputs": [],
   "source": [
    "def convert_weight(value):\n",
    "    if isinstance(value, str):\n",
    "        if \"OZ\" or \"oz\" in value:\n",
    "            value = value.lower().replace(\"oz\", \"\").strip()\n",
    "            value = value.split(\"/\")[0].strip()\n",
    "        return float(value)\n",
    "    return value\n",
    "\n",
    "df[\"WEIGHT oz/g (US MEN'S 11)\"] = df[\"WEIGHT oz/g (US MEN'S 11)\"].apply(convert_weight)\n",
    "# change column name\n",
    "df = df.rename(columns={\"WEIGHT oz/g (US MEN'S 11)\": \"WEIGHT oz (US MEN'S 11)\"})\n"
   ]
  },
  {
   "cell_type": "code",
   "execution_count": 11,
   "id": "9bb31e15",
   "metadata": {},
   "outputs": [],
   "source": [
    "df.loc[df[\"DEGREE OF SLIP\"] == '42 dyed 38 clear ', \"DEGREE OF SLIP\"] = 40\n",
    "df['DEGREE OF SLIP'] = df['DEGREE OF SLIP'].astype(float) "
   ]
  },
  {
   "cell_type": "code",
   "execution_count": 12,
   "id": "a1212161",
   "metadata": {},
   "outputs": [
    {
     "data": {
      "text/plain": [
       "array([['XERO X1 MID/HIGH', 98.7, 31.0, 1.2, 0.0, 12.85, 37.0, 0.0,\n",
       "        '2.41/2.18', '16.5', '13', 27.8, 9.7, 11.0, 21.0, 2.0, 8.0, nan,\n",
       "        nan, 25.0, 'EVA+POLYURETHANE', 'F,N,H', 'NONE', 1.0, '1mm',\n",
       "        'HARDWOOD', 3.5, 2.0, 3.0, 3.0, 3.5, 3.5, 3.0, 3.5, 'N']],\n",
       "      dtype=object)"
      ]
     },
     "execution_count": 12,
     "metadata": {},
     "output_type": "execute_result"
    }
   ],
   "source": [
    "value_list = df[df[\"SPEED RATIO\"] == '2.41/2.18'].to_numpy()\n",
    "value_list"
   ]
  },
  {
   "cell_type": "code",
   "execution_count": 13,
   "id": "2f49097e",
   "metadata": {},
   "outputs": [],
   "source": [
    "df.loc[df[\"SPEED RATIO\"] == '2.41/2.18', [\"NAME\", \"SPEED RATIO\"]] = [\"XERO X1 MID\", 2.41]"
   ]
  },
  {
   "cell_type": "code",
   "execution_count": 14,
   "id": "d91cf3f3",
   "metadata": {},
   "outputs": [],
   "source": [
    "df.loc[len(df)] = value_list[0]\n",
    "df.loc[len(df) - 1, [\"NAME\", \"SPEED RATIO\"]] = [\"XERO X1 HIGH\", 2.18]\n",
    "df[\"SPEED RATIO\"] = df[\"SPEED RATIO\"].astype(float)"
   ]
  },
  {
   "cell_type": "code",
   "execution_count": 15,
   "id": "84554a98",
   "metadata": {},
   "outputs": [],
   "source": [
    "records = []\n",
    "for i in range(len(df)):\n",
    "    try:\n",
    "        float(df.loc[i, \"DUROMETER\"])\n",
    "    except ValueError:\n",
    "        records.append(df.loc[i])\n",
    "\n"
   ]
  },
  {
   "cell_type": "code",
   "execution_count": 16,
   "id": "66689c16",
   "metadata": {},
   "outputs": [],
   "source": [
    "df['FLAT ARCH'] = False\n",
    "df['NEUTRAL ARCH'] = False\n",
    "df['HIGH ARCH'] = False\n",
    "for i in range(len(df)):\n",
    "    val = df.loc[i, \"ARCH TYPES F = FLAT N = NEUTRAL H = HIGH\"]\n",
    "    if isinstance(val, str):\n",
    "        if \"F\" in val:\n",
    "            df.loc[i, 'FLAT ARCH'] = True\n",
    "        if \"N\" in val:\n",
    "            df.loc[i, 'NEUTRAL ARCH'] = True\n",
    "        if \"H\" in val:\n",
    "            df.loc[i, 'HIGH ARCH'] = True\n",
    "df = df.drop(columns=[\"ARCH TYPES F = FLAT N = NEUTRAL H = HIGH\"])\n",
    "\n"
   ]
  },
  {
   "cell_type": "code",
   "execution_count": 17,
   "id": "59c40aa5",
   "metadata": {},
   "outputs": [],
   "source": [
    "df['FITS ORTHOTICS'] = df['FITS ORTHOTICS'].apply(lambda x: True if x == 'Y' else False)"
   ]
  },
  {
   "cell_type": "code",
   "execution_count": 18,
   "id": "9fc20a74",
   "metadata": {},
   "outputs": [
    {
     "data": {
      "text/plain": [
       "NAME                                                                 object\n",
       "30 SEC HEATING (F) (INTERNAL)                                       float64\n",
       "BOUNCE HEIGHT AVERAGE (cm)                                          float64\n",
       "HEEL HEIGHT (cm)                                                    float64\n",
       "HEEL-BALL DROP (cm)                                                 float64\n",
       "WEIGHT oz (US MEN'S 11)                                             float64\n",
       "DEGREE OF SLIP                                                      float64\n",
       "SHANK SCORE                                                         float64\n",
       "SPEED RATIO                                                         float64\n",
       "DUROMETER                                                            object\n",
       "LAST SHAPE (DEGREE OF INFLARE)                                       object\n",
       "LENGTH (cm)                                                         float64\n",
       "METATARSAL WIDTH(cm)                                                float64\n",
       "TOEBOX WIDTH(cm)                                                    float64\n",
       "TOE BOX TAPER (DEGREES)                                             float64\n",
       "RESTING POSITION (DEGREES OF EVERSION)                              float64\n",
       "LOADED POSITION (DEGREES OF EVERSION)                               float64\n",
       "HEEL WIDTH (cm)                                                     float64\n",
       "NARROWEST MIDFOOT MEASUREMENT (cm)                                  float64\n",
       "URS                                                                 float64\n",
       "MIDSOLE FOAM                                                         object\n",
       "SHANK MATERIAL                                                       object\n",
       "UPPER DURABILITY 0 = NOT THROUGH 1ST LAYER 1 = THROUGH 1ST LAYER    float64\n",
       "OUTSOLE DURABILITY                                                   object\n",
       "BEST SURFACE                                                         object\n",
       "CONTAINMENT                                                         float64\n",
       "BOUNCE                                                              float64\n",
       "SA                                                                  float64\n",
       "SPEED                                                               float64\n",
       "DURABILITY                                                          float64\n",
       "COMFORT                                                             float64\n",
       "SUPPORT                                                             float64\n",
       "PLAYABILITY                                                         float64\n",
       "FITS ORTHOTICS                                                         bool\n",
       "FLAT ARCH                                                              bool\n",
       "NEUTRAL ARCH                                                           bool\n",
       "HIGH ARCH                                                              bool\n",
       "dtype: object"
      ]
     },
     "execution_count": 18,
     "metadata": {},
     "output_type": "execute_result"
    }
   ],
   "source": [
    "df.dtypes"
   ]
  },
  {
   "cell_type": "code",
   "execution_count": 19,
   "id": "61d0a5e2",
   "metadata": {},
   "outputs": [
    {
     "data": {
      "text/plain": [
       "array(['HARDWOOD ', 'HARDWOOD', 'ALL ', 'RUBBERIZED ', nan, 'ASPHALT',\n",
       "       'ALL', 'PVC', 'HARDWOOD/ASPHALT', 'ASHALT', 'RUBBERIZED',\n",
       "       'ASPHALT '], dtype=object)"
      ]
     },
     "execution_count": 19,
     "metadata": {},
     "output_type": "execute_result"
    }
   ],
   "source": [
    "df['BEST SURFACE'].unique()"
   ]
  },
  {
   "cell_type": "code",
   "execution_count": 20,
   "id": "ecabf227",
   "metadata": {},
   "outputs": [],
   "source": [
    "df['BEST SURFACE'] = df['BEST SURFACE'].apply(lambda x: x.strip() if isinstance(x, str) else x)"
   ]
  },
  {
   "cell_type": "code",
   "execution_count": 21,
   "id": "85b526df",
   "metadata": {},
   "outputs": [],
   "source": [
    "df.loc[df['BEST SURFACE'] == 'ASHALT', 'BEST SURFACE'] = 'ASPHALT'"
   ]
  },
  {
   "cell_type": "code",
   "execution_count": 22,
   "id": "85e5f813",
   "metadata": {},
   "outputs": [],
   "source": [
    "df['HARDWOOD SURFACE'] = False\n",
    "df['RUBBERIZED SURFACE'] = False\n",
    "df['ASPHALT SURFACE'] = False\n",
    "for i in range(len(df)):\n",
    "    val = df.loc[i, \"BEST SURFACE\"]\n",
    "    if isinstance(val, str):\n",
    "        if \"HARDWOOD\" in val:\n",
    "            df.loc[i, 'HARDWOOD SURFACE'] = True\n",
    "        if \"RUBBERIZED\" in val or \"PVC\" in val:\n",
    "            df.loc[i, 'RUBBERIZED SURFACE'] = True\n",
    "        if \"ASPHALT\" in val:\n",
    "            df.loc[i, 'ASPHALT SURFACE'] = True\n",
    "        \n",
    "        if \"ALL\" in val:\n",
    "            df.loc[i, 'HARDWOOD SURFACE'] = True\n",
    "            df.loc[i, 'RUBBERIZED SURFACE'] = True\n",
    "            df.loc[i, 'ASPHALT SURFACE'] = True\n",
    "\n",
    "df = df.drop(columns=[\"BEST SURFACE\"])"
   ]
  },
  {
   "cell_type": "code",
   "execution_count": 23,
   "id": "4544a4da",
   "metadata": {},
   "outputs": [
    {
     "data": {
      "text/plain": [
       "NAME                                                                 object\n",
       "30 SEC HEATING (F) (INTERNAL)                                       float64\n",
       "BOUNCE HEIGHT AVERAGE (cm)                                          float64\n",
       "HEEL HEIGHT (cm)                                                    float64\n",
       "HEEL-BALL DROP (cm)                                                 float64\n",
       "WEIGHT oz (US MEN'S 11)                                             float64\n",
       "DEGREE OF SLIP                                                      float64\n",
       "SHANK SCORE                                                         float64\n",
       "SPEED RATIO                                                         float64\n",
       "DUROMETER                                                            object\n",
       "LAST SHAPE (DEGREE OF INFLARE)                                       object\n",
       "LENGTH (cm)                                                         float64\n",
       "METATARSAL WIDTH(cm)                                                float64\n",
       "TOEBOX WIDTH(cm)                                                    float64\n",
       "TOE BOX TAPER (DEGREES)                                             float64\n",
       "RESTING POSITION (DEGREES OF EVERSION)                              float64\n",
       "LOADED POSITION (DEGREES OF EVERSION)                               float64\n",
       "HEEL WIDTH (cm)                                                     float64\n",
       "NARROWEST MIDFOOT MEASUREMENT (cm)                                  float64\n",
       "URS                                                                 float64\n",
       "MIDSOLE FOAM                                                         object\n",
       "SHANK MATERIAL                                                       object\n",
       "UPPER DURABILITY 0 = NOT THROUGH 1ST LAYER 1 = THROUGH 1ST LAYER    float64\n",
       "OUTSOLE DURABILITY                                                   object\n",
       "CONTAINMENT                                                         float64\n",
       "BOUNCE                                                              float64\n",
       "SA                                                                  float64\n",
       "SPEED                                                               float64\n",
       "DURABILITY                                                          float64\n",
       "COMFORT                                                             float64\n",
       "SUPPORT                                                             float64\n",
       "PLAYABILITY                                                         float64\n",
       "FITS ORTHOTICS                                                         bool\n",
       "FLAT ARCH                                                              bool\n",
       "NEUTRAL ARCH                                                           bool\n",
       "HIGH ARCH                                                              bool\n",
       "HARDWOOD SURFACE                                                       bool\n",
       "RUBBERIZED SURFACE                                                     bool\n",
       "ASPHALT SURFACE                                                        bool\n",
       "dtype: object"
      ]
     },
     "execution_count": 23,
     "metadata": {},
     "output_type": "execute_result"
    }
   ],
   "source": [
    "df.dtypes"
   ]
  },
  {
   "cell_type": "code",
   "execution_count": 24,
   "id": "a9abcd66",
   "metadata": {},
   "outputs": [],
   "source": [
    "df = df.rename(columns = {'SA': 'SHOCK ABSORPTION', 'URS': 'OVERALL RATING SCORE'})"
   ]
  },
  {
   "cell_type": "code",
   "execution_count": 25,
   "id": "e114abb4",
   "metadata": {},
   "outputs": [],
   "source": [
    "df['FOREFOOT HEIGHT (cm)'] = df['HEEL HEIGHT (cm)'] - df['HEEL-BALL DROP (cm)']"
   ]
  },
  {
   "cell_type": "code",
   "execution_count": 26,
   "id": "72734f78",
   "metadata": {},
   "outputs": [],
   "source": [
    "df.to_csv(\"data/2025 HOOP SHEET PROCESSED.csv\", index=False)"
   ]
  },
  {
   "cell_type": "code",
   "execution_count": null,
   "id": "e96ad2d2",
   "metadata": {},
   "outputs": [],
   "source": []
  }
 ],
 "metadata": {
  "kernelspec": {
   "display_name": ".venv",
   "language": "python",
   "name": "python3"
  },
  "language_info": {
   "codemirror_mode": {
    "name": "ipython",
    "version": 3
   },
   "file_extension": ".py",
   "mimetype": "text/x-python",
   "name": "python",
   "nbconvert_exporter": "python",
   "pygments_lexer": "ipython3",
   "version": "3.13.3"
  }
 },
 "nbformat": 4,
 "nbformat_minor": 5
}
