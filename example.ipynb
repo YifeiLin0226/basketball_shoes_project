{
 "cells": [
  {
   "cell_type": "code",
   "execution_count": 3,
   "id": "bd56fd00",
   "metadata": {},
   "outputs": [],
   "source": [
    "from llama_index.readers.file import PagedCSVReader\n",
    "from llama_index.core import VectorStoreIndex\n",
    "from llama_index.core import Settings\n",
    "from llama_index.llms.openai import OpenAI\n",
    "# from llama_index.embeddings.openai import OpenAIEmbedding\n",
    "from llama_index.llms.ollama import Ollama\n",
    "from llama_index.embeddings.huggingface import HuggingFaceEmbedding\n",
    "from llama_index.core.agent.workflow import AgentWorkflow, FunctionAgent, ReActAgent\n",
    "from llama_index.core.workflow import Context\n",
    "\n",
    "from shoe_recommender_engine import ShoeRecommenderEngine\n",
    "from shoe_retrieval import ShoeRetrieval"
   ]
  },
  {
   "cell_type": "code",
   "execution_count": 64,
   "id": "bfe6f8c2",
   "metadata": {},
   "outputs": [],
   "source": [
    "file_path = 'data/2025 HOOP SHEET PROCESSED.csv'\n",
    "llm_kwargs = {'model': 'gpt-4o-mini', 'request_timeout': 360.0, 'temperature': 0.1}"
   ]
  },
  {
   "cell_type": "code",
   "execution_count": 65,
   "id": "c56ef8f3",
   "metadata": {},
   "outputs": [],
   "source": [
    "Settings.llm = OpenAI(**llm_kwargs)\n",
    "Settings.embed_model = HuggingFaceEmbedding(model_name=\"jinaai/jina-embeddings-v3\", trust_remote_code=True)"
   ]
  },
  {
   "cell_type": "code",
   "execution_count": 66,
   "id": "fc2f8adf",
   "metadata": {},
   "outputs": [],
   "source": [
    "documents = PagedCSVReader().load_data('data/2025 HOOP SHEET PROCESSED.csv')"
   ]
  },
  {
   "cell_type": "code",
   "execution_count": 67,
   "id": "9606622e",
   "metadata": {},
   "outputs": [],
   "source": [
    "index = VectorStoreIndex.from_documents(documents)"
   ]
  },
  {
   "cell_type": "code",
   "execution_count": 68,
   "id": "aa5c25fe",
   "metadata": {},
   "outputs": [
    {
     "data": {
      "text/plain": [
       "'The cushioning of the Joker 1 is characterized by a midsole foam made of CO2 and thermoplastic, which contributes to its overall comfort and shock absorption. It has a bounce rating of 5.0 and a shock absorption rating of 4.5, indicating that it provides a good level of cushioning and support during use.'"
      ]
     },
     "execution_count": 68,
     "metadata": {},
     "output_type": "execute_result"
    }
   ],
   "source": [
    "query_engine = index.as_query_engine(similarity_top_k = 1)\n",
    "query_engine.query(\"How is Joker 1's cushioning?\").response"
   ]
  },
  {
   "cell_type": "code",
   "execution_count": 69,
   "id": "5dbc2630",
   "metadata": {},
   "outputs": [
    {
     "data": {
      "text/plain": [
       "\"NAME: 361 JOKER 1 GT\\n30 SEC HEATING (F) (INTERNAL): 117.4\\nBOUNCE HEIGHT AVERAGE (cm): 45.0\\nHEEL HEIGHT (cm): 2.1\\nHEEL-BALL DROP (cm): 0.5\\nWEIGHT oz (US MEN'S 11): 15.2\\nDEGREE OF SLIP: 44.0\\nSHANK SCORE: 0.3\\nSPEED RATIO: 3.26\\nDUROMETER: 17.9\\nLAST SHAPE (DEGREE OF INFLARE): 15\\nLENGTH (cm): 28.8\\nMETATARSAL WIDTH(cm): 10.0\\nTOEBOX WIDTH(cm): 10.9\\nTOE BOX TAPER (DEGREES): 24.0\\nRESTING POSITION (DEGREES OF EVERSION): 1.0\\nLOADED POSITION (DEGREES OF EVERSION): 7.0\\nHEEL WIDTH (cm): 14.0\\nNARROWEST MIDFOOT MEASUREMENT (cm): \\nOVERALL RATING SCORE: 36.5\\nMIDSOLE FOAM: CO2+THERMOPLASTIC\\nSHANK MATERIAL: PLASTIC\\nUPPER DURABILITY 0 = NOT THROUGH 1ST LAYER 1 = THROUGH 1ST LAYER: 0.0\\nOUTSOLE DURABILITY: <1mm\\nCONTAINMENT: 5.0\\nBOUNCE: 5.0\\nSHOCK ABSORPTION: 4.5\\nSPEED: 4.5\\nDURABILITY: 4.0\\nCOMFORT: 4.5\\nSUPPORT: 4.5\\nPLAYABILITY: 4.5\\nFITS ORTHOTICS: True\\nFLAT ARCH: True\\nNEUTRAL ARCH: True\\nHIGH ARCH: True\\nHARDWOOD SURFACE: True\\nRUBBERIZED SURFACE: False\\nASPHALT SURFACE: False\\nFOREFOOT HEIGHT (cm): 1.6\""
      ]
     },
     "execution_count": 69,
     "metadata": {},
     "output_type": "execute_result"
    }
   ],
   "source": [
    "retriever = index.as_retriever(similarity_top_k=1)\n",
    "retriever.retrieve(\"How is Joker 1's cushioning?\")[0].text"
   ]
  },
  {
   "cell_type": "code",
   "execution_count": 71,
   "id": "ca5b0393",
   "metadata": {},
   "outputs": [
    {
     "data": {
      "text/plain": [
       "\"For lightweight options, consider shoes that weigh around 15.03 ounces (for US Men's size 11). Look for models that feature a combination of EVA and Zoom foam for cushioning while maintaining a lightweight feel. Additionally, ensure they have a good bounce height and support for various arch types, as well as compatibility with orthotics for added comfort.\""
      ]
     },
     "execution_count": 71,
     "metadata": {},
     "output_type": "execute_result"
    }
   ],
   "source": [
    "query_engine.query(\"Recommend me some lightweight shoes\").response"
   ]
  },
  {
   "cell_type": "code",
   "execution_count": 73,
   "id": "c171eeed",
   "metadata": {},
   "outputs": [
    {
     "data": {
      "text/plain": [
       "\"NAME: JORDAN WHY NOT ZER0.6\\n30 SEC HEATING (F) (INTERNAL): 140.9\\nBOUNCE HEIGHT AVERAGE (cm): 36.75\\nHEEL HEIGHT (cm): 2.4\\nHEEL-BALL DROP (cm): 0.6\\nWEIGHT oz (US MEN'S 11): 15.03\\nDEGREE OF SLIP: \\nSHANK SCORE: \\nSPEED RATIO: 2.45\\nDUROMETER: 14.5\\nLAST SHAPE (DEGREE OF INFLARE): 11\\nLENGTH (cm): 28.7\\nMETATARSAL WIDTH(cm): 9.2\\nTOEBOX WIDTH(cm): \\nTOE BOX TAPER (DEGREES): \\nRESTING POSITION (DEGREES OF EVERSION): \\nLOADED POSITION (DEGREES OF EVERSION): \\nHEEL WIDTH (cm): \\nNARROWEST MIDFOOT MEASUREMENT (cm): \\nOVERALL RATING SCORE: 31.5\\nMIDSOLE FOAM: EVA + ZOOM\\nSHANK MATERIAL: PLASTIC\\nUPPER DURABILITY 0 = NOT THROUGH 1ST LAYER 1 = THROUGH 1ST LAYER: 0.0\\nOUTSOLE DURABILITY: 1.5 MM\\nCONTAINMENT: \\nBOUNCE: \\nSHOCK ABSORPTION: \\nSPEED: \\nDURABILITY: \\nCOMFORT: \\nSUPPORT: \\nPLAYABILITY: \\nFITS ORTHOTICS: True\\nFLAT ARCH: True\\nNEUTRAL ARCH: True\\nHIGH ARCH: True\\nHARDWOOD SURFACE: True\\nRUBBERIZED SURFACE: False\\nASPHALT SURFACE: False\\nFOREFOOT HEIGHT (cm): 1.7999999999999998\""
      ]
     },
     "execution_count": 73,
     "metadata": {},
     "output_type": "execute_result"
    }
   ],
   "source": [
    "retriever.retrieve(\"Recommend me some lightweight shoes\")[0].text"
   ]
  },
  {
   "cell_type": "code",
   "execution_count": null,
   "id": "b7b1a3b1",
   "metadata": {},
   "outputs": [],
   "source": [
    "from llama_index.core.agent.workflow import FunctionAgent\n",
    "from shoe_retrieval import ShoeRetrieval"
   ]
  },
  {
   "cell_type": "code",
   "execution_count": null,
   "id": "307b938b",
   "metadata": {},
   "outputs": [],
   "source": [
    "retriever = ShoeRetrieval('data/2025 HOOP SHEET PROCESSED.csv')"
   ]
  },
  {
   "cell_type": "code",
   "execution_count": 42,
   "id": "046cb2cf",
   "metadata": {},
   "outputs": [],
   "source": [
    "retriever_tool = retriever.as_tool()"
   ]
  },
  {
   "cell_type": "code",
   "execution_count": null,
   "id": "e67be729",
   "metadata": {},
   "outputs": [],
   "source": [
    "agent = FunctionAgent(name = \"shoe_retriever_agent\",\n",
    "                                    description = \"An agent capable of retrieving specs given basketball shoe name(s) and discuss the performance of the shoe(s). \"\\\n",
    "                                        \"If multiple shoes are given, the agent should discuss the performance of each shoe one by one and compare them. This agent should be used **ONLY** when the shoe name(s) is given by the user.\",\n",
    "                                    system_prompt = \"You are a helpful assistant that retrieves specs given basketball shoe name(s) and discuss the performance of the shoe(s) \"\\\n",
    "                                        \"If multiple shoes are given, the agent should discuss the performance of each shoe one by one and compare them. Use global_median_values as a reference of the average shoes' performance\",\n",
    "                                    tools = [retriever_tool],)"
   ]
  },
  {
   "cell_type": "code",
   "execution_count": 60,
   "id": "92a58e71",
   "metadata": {},
   "outputs": [
    {
     "data": {
      "text/plain": [
       "AgentOutput(response=ChatMessage(role=<MessageRole.ASSISTANT: 'assistant'>, additional_kwargs={}, blocks=[TextBlock(block_type='text', text=\"The Joker 1 basketball shoe features a midsole made of CO2+Thermoplastic foam, which contributes to its cushioning performance. Here are some key metrics related to its cushioning:\\n\\n1. **Bounce Score**: The Joker 1 has a bounce score of 5.0 out of 5, indicating excellent responsiveness and energy return during play. This is above the global median value of 4.0, suggesting that the shoe provides a lively feel when jumping or sprinting.\\n\\n2. **Shock Absorption**: With a score of 4.5 out of 5, the shock absorption capability of the Joker 1 is also impressive. This means it effectively absorbs impact during landings, which can help reduce stress on the joints.\\n\\n3. **Comfort**: The comfort score is 4.5 out of 5, indicating that the shoe is designed to be comfortable for extended wear, which is crucial for basketball players who spend long hours on the court.\\n\\n4. **Heel-Ball Drop**: The heel-ball drop is 0.5 cm, which is relatively low. This suggests that the shoe offers a closer-to-the-ground feel, enhancing court feel and stability, although it may provide less relief for the Achilles compared to shoes with a higher drop.\\n\\n5. **Forefoot Height**: The forefoot height is 1.6 cm, which contributes to the overall cushioning experience, allowing for a good balance between comfort and responsiveness.\\n\\nOverall, the Joker 1's cushioning system is designed to provide excellent responsiveness, shock absorption, and comfort, making it suitable for players looking for a shoe that can handle dynamic movements on the court. Its performance metrics are above average compared to many other basketball shoes, making it a strong contender for players who prioritize these aspects in their footwear.\")]), tool_calls=[ToolCallResult(tool_name='shoe_retriever', tool_kwargs={'names': ['Joker 1']}, tool_id='call_pIosqmyp6IzfXdWjevOKDdwH', tool_output=ToolOutput(content='{\\'shoes_specs\\': \"NAME: 361 JOKER 1 GT\\\\n30 SEC HEATING (F) (INTERNAL): 117.4\\\\nBOUNCE HEIGHT AVERAGE (cm): 45.0\\\\nHEEL HEIGHT (cm): 2.1\\\\nHEEL-BALL DROP (cm): 0.5\\\\nWEIGHT oz (US MEN\\'S 11): 15.2\\\\nDEGREE OF SLIP: 44.0\\\\nSHANK SCORE: 0.3\\\\nSPEED RATIO: 3.26\\\\nDUROMETER: 17.9\\\\nLAST SHAPE (DEGREE OF INFLARE): 15\\\\nLENGTH (cm): 28.8\\\\nMETATARSAL WIDTH(cm): 10.0\\\\nTOEBOX WIDTH(cm): 10.9\\\\nTOE BOX TAPER (DEGREES): 24.0\\\\nRESTING POSITION (DEGREES OF EVERSION): 1.0\\\\nLOADED POSITION (DEGREES OF EVERSION): 7.0\\\\nHEEL WIDTH (cm): 14.0\\\\nNARROWEST MIDFOOT MEASUREMENT (cm): \\\\nOVERALL RATING SCORE: 36.5\\\\nMIDSOLE FOAM: CO2+THERMOPLASTIC\\\\nSHANK MATERIAL: PLASTIC\\\\nUPPER DURABILITY 0 = NOT THROUGH 1ST LAYER 1 = THROUGH 1ST LAYER: 0.0\\\\nOUTSOLE DURABILITY: <1mm\\\\nCONTAINMENT: 5.0\\\\nBOUNCE: 5.0\\\\nSHOCK ABSORPTION: 4.5\\\\nSPEED: 4.5\\\\nDURABILITY: 4.0\\\\nCOMFORT: 4.5\\\\nSUPPORT: 4.5\\\\nPLAYABILITY: 4.5\\\\nFITS ORTHOTICS: True\\\\nFLAT ARCH: True\\\\nNEUTRAL ARCH: True\\\\nHIGH ARCH: True\\\\nHARDWOOD SURFACE: True\\\\nRUBBERIZED SURFACE: False\\\\nASPHALT SURFACE: False\\\\nFOREFOOT HEIGHT (cm): 1.6\", \\'global_median_values\\': {\\'30 SEC HEATING (F) (INTERNAL)\\': 109.3, \\'BOUNCE HEIGHT AVERAGE (cm)\\': 37.625, \\'HEEL HEIGHT (cm)\\': 2.4, \\'HEEL-BALL DROP (cm)\\': 0.8, \"WEIGHT oz (US MEN\\'S 11)\": 14.92, \\'DEGREE OF SLIP\\': 41.0, \\'SHANK SCORE\\': 0.2, \\'SPEED RATIO\\': 2.7, \\'LENGTH (cm)\\': 28.8, \\'METATARSAL WIDTH(cm)\\': 9.2, \\'TOEBOX WIDTH(cm)\\': 10.4, \\'TOE BOX TAPER (DEGREES)\\': 28.0, \\'RESTING POSITION (DEGREES OF EVERSION)\\': 1.5, \\'LOADED POSITION (DEGREES OF EVERSION)\\': 5.0, \\'HEEL WIDTH (cm)\\': 6.449999999999999, \\'NARROWEST MIDFOOT MEASUREMENT (cm)\\': 6.5, \\'OVERALL RATING SCORE\\': 33.0, \\'UPPER DURABILITY 0 = NOT THROUGH 1ST LAYER 1 = THROUGH 1ST LAYER\\': 0.0, \\'CONTAINMENT\\': 4.5, \\'BOUNCE\\': 4.0, \\'SHOCK ABSORPTION\\': 4.5, \\'SPEED\\': 4.0, \\'DURABILITY\\': 4.0, \\'COMFORT\\': 4.0, \\'SUPPORT\\': 4.0, \\'PLAYABILITY\\': 4.0, \\'FITS ORTHOTICS\\': 1.0, \\'FLAT ARCH\\': 1.0, \\'NEUTRAL ARCH\\': 1.0, \\'HIGH ARCH\\': 1.0, \\'HARDWOOD SURFACE\\': 1.0, \\'RUBBERIZED SURFACE\\': 0.0, \\'ASPHALT SURFACE\\': 0.0, \\'FOREFOOT HEIGHT (cm)\\': 1.6}, \\'column_descriptions\\': {\\'NAME\\': \\'brand + model name of the basketball shoe\\', \\'30 SEC HEATING (F) (INTERNAL)\\': \\'internal temperature after 30 seconds of heating, indicating breathability or ventilation\\', \\'BOUNCE HEIGHT AVERAGE (cm)\\': \\'average bounce height on the midsole\\', \\'HEEL HEIGHT (cm)\\': \\'height of the heel from the ground\\', \\'FOREFOOT HEIGHT (cm)\\': \\'height of the forefoot from the ground, lower indicating more court feeling\\', \\'HEEL-BALL DROP (cm)\\': \\'difference in height between heel and forefoot of the basketball shoe, higher indicating more achilles relief but less court feel\\', \"WEIGHT oz (US MEN\\'S 11)\": \\'weight of the basketball shoe in ounces\\', \\'DEGREE OF SLIP\\': \\'angle of incline at which the basketball shoe begins to slip\\', \\'SHANK SCORE\\': \\'score based on the shank material and design for torsional stability\\', \\'SPEED RATIO\\': \\'ratio of speed given the bounce height, weight and shank\\', \\'DUROMETER\\': \\'durometer score indicating the hardness of the outsole\\', \\'LAST SHAPE (DEGREE OF INFLARE)\\': \\'degree of inflare of the last shape\\', \\'LENGTH (cm)\\': \\'outsole length given the same size\\', \\'METATARSAL WIDTH(cm)\\': \\'width of the basketball shoe at the metatarsal area\\', \\'TOEBOX WIDTH(cm)\\': \\'width of the basketball shoe at the toe box\\', \\'OVERALL RATING SCORE\\': \\'overall rating score based on various performance metrics out of 40\\', \\'MIDSOLE FOAM\\': \\'type of midsole foam used in the basketball shoe\\', \\'SHANK MATERIAL\\': \\'material used for the shank of the basketball shoe\\', \\'CONTAINMENT\\': \\'how well the basketball shoe contains the foot during movement out of 5\\', \\'BOUNCE\\': \\'bounce score indicating the responsiveness of the basketball shoe out of 5\\', \\'SHOCK ABSORPTION\\': \\'shock absorption score indicating how well the basketball shoe absorbs impact out of 5\\', \\'SPEED\\': \\'speed score indicating how fast the basketball shoe can perform out of 5\\', \\'DURABILITY\\': \\'durability score indicating how long the basketball shoe lasts out of 5\\', \\'COMFORT\\': \\'comfort score indicating how comfortable the basketball shoe is to wear out of 5\\', \\'SUPPORT\\': \\'support score indicating how well the basketball shoe supports the foot out of 5\\', \\'PLAYABILITY\\': \\'playability score indicating how versatile the basketball shoe is for different types of play out of 5\\', \\'FITS ORTHOTICS\\': \\'boolean indicating if the basketball shoe fits orthotics\\', \\'FLAT ARCH\\': \\'boolean indicating if the basketball shoe is designed for flat arches\\', \\'NEUTRAL ARCH\\': \\'boolean indicating if the basketball shoe is designed for neutral arches\\', \\'HIGH ARCH\\': \\'boolean indicating if the basketball shoe is designed for high arches\\', \\'HARDWOOD SURFACE\\': \\'boolean indicating if the basketball shoe is suitable for hardwood surfaces\\', \\'RUBBERIZED SURFACE\\': \\'boolean indicating if the basketball shoe is suitable for rubberized surfaces\\', \\'ASPHALT SURFACE\\': \\'boolean indicating if the basketball shoe is suitable for outdoor asphalt surfaces\\'}}', tool_name='shoe_retriever', raw_input={'args': (), 'kwargs': {'names': ['Joker 1']}}, raw_output='{\\'shoes_specs\\': \"NAME: 361 JOKER 1 GT\\\\n30 SEC HEATING (F) (INTERNAL): 117.4\\\\nBOUNCE HEIGHT AVERAGE (cm): 45.0\\\\nHEEL HEIGHT (cm): 2.1\\\\nHEEL-BALL DROP (cm): 0.5\\\\nWEIGHT oz (US MEN\\'S 11): 15.2\\\\nDEGREE OF SLIP: 44.0\\\\nSHANK SCORE: 0.3\\\\nSPEED RATIO: 3.26\\\\nDUROMETER: 17.9\\\\nLAST SHAPE (DEGREE OF INFLARE): 15\\\\nLENGTH (cm): 28.8\\\\nMETATARSAL WIDTH(cm): 10.0\\\\nTOEBOX WIDTH(cm): 10.9\\\\nTOE BOX TAPER (DEGREES): 24.0\\\\nRESTING POSITION (DEGREES OF EVERSION): 1.0\\\\nLOADED POSITION (DEGREES OF EVERSION): 7.0\\\\nHEEL WIDTH (cm): 14.0\\\\nNARROWEST MIDFOOT MEASUREMENT (cm): \\\\nOVERALL RATING SCORE: 36.5\\\\nMIDSOLE FOAM: CO2+THERMOPLASTIC\\\\nSHANK MATERIAL: PLASTIC\\\\nUPPER DURABILITY 0 = NOT THROUGH 1ST LAYER 1 = THROUGH 1ST LAYER: 0.0\\\\nOUTSOLE DURABILITY: <1mm\\\\nCONTAINMENT: 5.0\\\\nBOUNCE: 5.0\\\\nSHOCK ABSORPTION: 4.5\\\\nSPEED: 4.5\\\\nDURABILITY: 4.0\\\\nCOMFORT: 4.5\\\\nSUPPORT: 4.5\\\\nPLAYABILITY: 4.5\\\\nFITS ORTHOTICS: True\\\\nFLAT ARCH: True\\\\nNEUTRAL ARCH: True\\\\nHIGH ARCH: True\\\\nHARDWOOD SURFACE: True\\\\nRUBBERIZED SURFACE: False\\\\nASPHALT SURFACE: False\\\\nFOREFOOT HEIGHT (cm): 1.6\", \\'global_median_values\\': {\\'30 SEC HEATING (F) (INTERNAL)\\': 109.3, \\'BOUNCE HEIGHT AVERAGE (cm)\\': 37.625, \\'HEEL HEIGHT (cm)\\': 2.4, \\'HEEL-BALL DROP (cm)\\': 0.8, \"WEIGHT oz (US MEN\\'S 11)\": 14.92, \\'DEGREE OF SLIP\\': 41.0, \\'SHANK SCORE\\': 0.2, \\'SPEED RATIO\\': 2.7, \\'LENGTH (cm)\\': 28.8, \\'METATARSAL WIDTH(cm)\\': 9.2, \\'TOEBOX WIDTH(cm)\\': 10.4, \\'TOE BOX TAPER (DEGREES)\\': 28.0, \\'RESTING POSITION (DEGREES OF EVERSION)\\': 1.5, \\'LOADED POSITION (DEGREES OF EVERSION)\\': 5.0, \\'HEEL WIDTH (cm)\\': 6.449999999999999, \\'NARROWEST MIDFOOT MEASUREMENT (cm)\\': 6.5, \\'OVERALL RATING SCORE\\': 33.0, \\'UPPER DURABILITY 0 = NOT THROUGH 1ST LAYER 1 = THROUGH 1ST LAYER\\': 0.0, \\'CONTAINMENT\\': 4.5, \\'BOUNCE\\': 4.0, \\'SHOCK ABSORPTION\\': 4.5, \\'SPEED\\': 4.0, \\'DURABILITY\\': 4.0, \\'COMFORT\\': 4.0, \\'SUPPORT\\': 4.0, \\'PLAYABILITY\\': 4.0, \\'FITS ORTHOTICS\\': 1.0, \\'FLAT ARCH\\': 1.0, \\'NEUTRAL ARCH\\': 1.0, \\'HIGH ARCH\\': 1.0, \\'HARDWOOD SURFACE\\': 1.0, \\'RUBBERIZED SURFACE\\': 0.0, \\'ASPHALT SURFACE\\': 0.0, \\'FOREFOOT HEIGHT (cm)\\': 1.6}, \\'column_descriptions\\': {\\'NAME\\': \\'brand + model name of the basketball shoe\\', \\'30 SEC HEATING (F) (INTERNAL)\\': \\'internal temperature after 30 seconds of heating, indicating breathability or ventilation\\', \\'BOUNCE HEIGHT AVERAGE (cm)\\': \\'average bounce height on the midsole\\', \\'HEEL HEIGHT (cm)\\': \\'height of the heel from the ground\\', \\'FOREFOOT HEIGHT (cm)\\': \\'height of the forefoot from the ground, lower indicating more court feeling\\', \\'HEEL-BALL DROP (cm)\\': \\'difference in height between heel and forefoot of the basketball shoe, higher indicating more achilles relief but less court feel\\', \"WEIGHT oz (US MEN\\'S 11)\": \\'weight of the basketball shoe in ounces\\', \\'DEGREE OF SLIP\\': \\'angle of incline at which the basketball shoe begins to slip\\', \\'SHANK SCORE\\': \\'score based on the shank material and design for torsional stability\\', \\'SPEED RATIO\\': \\'ratio of speed given the bounce height, weight and shank\\', \\'DUROMETER\\': \\'durometer score indicating the hardness of the outsole\\', \\'LAST SHAPE (DEGREE OF INFLARE)\\': \\'degree of inflare of the last shape\\', \\'LENGTH (cm)\\': \\'outsole length given the same size\\', \\'METATARSAL WIDTH(cm)\\': \\'width of the basketball shoe at the metatarsal area\\', \\'TOEBOX WIDTH(cm)\\': \\'width of the basketball shoe at the toe box\\', \\'OVERALL RATING SCORE\\': \\'overall rating score based on various performance metrics out of 40\\', \\'MIDSOLE FOAM\\': \\'type of midsole foam used in the basketball shoe\\', \\'SHANK MATERIAL\\': \\'material used for the shank of the basketball shoe\\', \\'CONTAINMENT\\': \\'how well the basketball shoe contains the foot during movement out of 5\\', \\'BOUNCE\\': \\'bounce score indicating the responsiveness of the basketball shoe out of 5\\', \\'SHOCK ABSORPTION\\': \\'shock absorption score indicating how well the basketball shoe absorbs impact out of 5\\', \\'SPEED\\': \\'speed score indicating how fast the basketball shoe can perform out of 5\\', \\'DURABILITY\\': \\'durability score indicating how long the basketball shoe lasts out of 5\\', \\'COMFORT\\': \\'comfort score indicating how comfortable the basketball shoe is to wear out of 5\\', \\'SUPPORT\\': \\'support score indicating how well the basketball shoe supports the foot out of 5\\', \\'PLAYABILITY\\': \\'playability score indicating how versatile the basketball shoe is for different types of play out of 5\\', \\'FITS ORTHOTICS\\': \\'boolean indicating if the basketball shoe fits orthotics\\', \\'FLAT ARCH\\': \\'boolean indicating if the basketball shoe is designed for flat arches\\', \\'NEUTRAL ARCH\\': \\'boolean indicating if the basketball shoe is designed for neutral arches\\', \\'HIGH ARCH\\': \\'boolean indicating if the basketball shoe is designed for high arches\\', \\'HARDWOOD SURFACE\\': \\'boolean indicating if the basketball shoe is suitable for hardwood surfaces\\', \\'RUBBERIZED SURFACE\\': \\'boolean indicating if the basketball shoe is suitable for rubberized surfaces\\', \\'ASPHALT SURFACE\\': \\'boolean indicating if the basketball shoe is suitable for outdoor asphalt surfaces\\'}}', is_error=False), return_direct=False)], raw={'id': 'chatcmpl-Bk4wmc0MFEpDSNEw4G5Tceub7mIW6', 'choices': [{'delta': {'content': None, 'function_call': None, 'refusal': None, 'role': None, 'tool_calls': None}, 'finish_reason': 'stop', 'index': 0, 'logprobs': None}], 'created': 1750321804, 'model': 'gpt-4o-mini-2024-07-18', 'object': 'chat.completion.chunk', 'service_tier': 'default', 'system_fingerprint': 'fp_62a23a81ef', 'usage': None}, current_agent_name='shoe_retriever_agent')"
      ]
     },
     "execution_count": 60,
     "metadata": {},
     "output_type": "execute_result"
    }
   ],
   "source": [
    "response = await agent.run(\"How is Joker 1's cushioning?\")\n",
    "response"
   ]
  },
  {
   "cell_type": "code",
   "execution_count": 61,
   "id": "5826a677",
   "metadata": {},
   "outputs": [],
   "source": [
    "message = response.response"
   ]
  },
  {
   "cell_type": "code",
   "execution_count": 62,
   "id": "ad9a60b0",
   "metadata": {},
   "outputs": [
    {
     "data": {
      "text/plain": [
       "\"The Joker 1 basketball shoe features a midsole made of CO2+Thermoplastic foam, which contributes to its cushioning performance. Here are some key metrics related to its cushioning:\\n\\n1. **Bounce Score**: The Joker 1 has a bounce score of 5.0 out of 5, indicating excellent responsiveness and energy return during play. This is above the global median value of 4.0, suggesting that the shoe provides a lively feel when jumping or sprinting.\\n\\n2. **Shock Absorption**: With a score of 4.5 out of 5, the shock absorption capability of the Joker 1 is also impressive. This means it effectively absorbs impact during landings, which can help reduce stress on the joints.\\n\\n3. **Comfort**: The comfort score is 4.5 out of 5, indicating that the shoe is designed to be comfortable for extended wear, which is crucial for basketball players who spend long hours on the court.\\n\\n4. **Heel-Ball Drop**: The heel-ball drop is 0.5 cm, which is relatively low. This suggests that the shoe offers a closer-to-the-ground feel, enhancing court feel and stability, although it may provide less relief for the Achilles compared to shoes with a higher drop.\\n\\n5. **Forefoot Height**: The forefoot height is 1.6 cm, which contributes to the overall cushioning experience, allowing for a good balance between comfort and responsiveness.\\n\\nOverall, the Joker 1's cushioning system is designed to provide excellent responsiveness, shock absorption, and comfort, making it suitable for players looking for a shoe that can handle dynamic movements on the court. Its performance metrics are above average compared to many other basketball shoes, making it a strong contender for players who prioritize these aspects in their footwear.\""
      ]
     },
     "execution_count": 62,
     "metadata": {},
     "output_type": "execute_result"
    }
   ],
   "source": [
    "message.content"
   ]
  },
  {
   "cell_type": "code",
   "execution_count": 76,
   "id": "3d2becb5",
   "metadata": {},
   "outputs": [],
   "source": [
    "from llama_index.core.prompts import PromptTemplate\n",
    "from shoe_constants import COLUMN_DESCRIPTIONS"
   ]
  },
  {
   "cell_type": "code",
   "execution_count": 75,
   "id": "714f60a1",
   "metadata": {},
   "outputs": [],
   "source": [
    "prompt_template = PromptTemplate(\n",
    "            template=\"\"\"\n",
    "You are a shoe recommendation assistant.\n",
    "\n",
    "Given a user query and the following column names from a shoe specification table:\n",
    "{columns}\n",
    "\n",
    "Determine:\n",
    "1. Which column(s) should be **ranked** (sorted), and in what direction (asc/desc).\n",
    "2. Which column(s) should be **filtered**, and the filter condition (e.g., < 150). **Only** filter columns if the query explicitly mentions them, you should not implicitly filter but sort.\n",
    "\n",
    "Return a valid Python dictionary like this:\n",
    "{{\n",
    "  \"ranking\": [\n",
    "    {{\"column\": \"Weight oz/g\", \"sort\": \"asc\"}},\n",
    "    {{\"column\": \"Cushioning Score\", \"sort\": \"desc\"}}\n",
    "  ],\n",
    "  \"filters\": [\n",
    "    {{\"column\": \"Price\", \"op\": \"<\", \"value\": 150}}\n",
    "  ]\n",
    "}}\n",
    "\n",
    "and an explanation of your reasoning.\n",
    "User query: \"{query}\"\n",
    "\"\"\"\n",
    "        )"
   ]
  },
  {
   "cell_type": "code",
   "execution_count": 77,
   "id": "ab04fec1",
   "metadata": {},
   "outputs": [
    {
     "data": {
      "text/plain": [
       "'\\nYou are a shoe recommendation assistant.\\n\\nGiven a user query and the following column names from a shoe specification table:\\n{\\'NAME\\': \\'brand + model name of the basketball shoe\\', \\'30 SEC HEATING (F) (INTERNAL)\\': \\'internal temperature after 30 seconds of heating, indicating breathability or ventilation\\', \\'BOUNCE HEIGHT AVERAGE (cm)\\': \\'average bounce height on the midsole\\', \\'HEEL HEIGHT (cm)\\': \\'height of the heel from the ground\\', \\'FOREFOOT HEIGHT (cm)\\': \\'height of the forefoot from the ground, lower indicating more court feeling\\', \\'HEEL-BALL DROP (cm)\\': \\'difference in height between heel and forefoot of the basketball shoe, higher indicating more achilles relief but less court feel\\', \"WEIGHT oz (US MEN\\'S 11)\": \\'weight of the basketball shoe in ounces\\', \\'DEGREE OF SLIP\\': \\'angle of incline at which the basketball shoe begins to slip\\', \\'SHANK SCORE\\': \\'score based on the shank material and design for torsional stability\\', \\'SPEED RATIO\\': \\'ratio of speed given the bounce height, weight and shank\\', \\'DUROMETER\\': \\'durometer score indicating the hardness of the outsole\\', \\'LAST SHAPE (DEGREE OF INFLARE)\\': \\'degree of inflare of the last shape\\', \\'LENGTH (cm)\\': \\'outsole length given the same size\\', \\'METATARSAL WIDTH(cm)\\': \\'width of the basketball shoe at the metatarsal area\\', \\'TOEBOX WIDTH(cm)\\': \\'width of the basketball shoe at the toe box\\', \\'OVERALL RATING SCORE\\': \\'overall rating score based on various performance metrics out of 40\\', \\'MIDSOLE FOAM\\': \\'type of midsole foam used in the basketball shoe\\', \\'SHANK MATERIAL\\': \\'material used for the shank of the basketball shoe\\', \\'CONTAINMENT\\': \\'how well the basketball shoe contains the foot during movement out of 5\\', \\'BOUNCE\\': \\'bounce score indicating the responsiveness of the basketball shoe out of 5\\', \\'SHOCK ABSORPTION\\': \\'shock absorption score indicating how well the basketball shoe absorbs impact out of 5\\', \\'SPEED\\': \\'speed score indicating how fast the basketball shoe can perform out of 5\\', \\'DURABILITY\\': \\'durability score indicating how long the basketball shoe lasts out of 5\\', \\'COMFORT\\': \\'comfort score indicating how comfortable the basketball shoe is to wear out of 5\\', \\'SUPPORT\\': \\'support score indicating how well the basketball shoe supports the foot out of 5\\', \\'PLAYABILITY\\': \\'playability score indicating how versatile the basketball shoe is for different types of play out of 5\\', \\'FITS ORTHOTICS\\': \\'boolean indicating if the basketball shoe fits orthotics\\', \\'FLAT ARCH\\': \\'boolean indicating if the basketball shoe is designed for flat arches\\', \\'NEUTRAL ARCH\\': \\'boolean indicating if the basketball shoe is designed for neutral arches\\', \\'HIGH ARCH\\': \\'boolean indicating if the basketball shoe is designed for high arches\\', \\'HARDWOOD SURFACE\\': \\'boolean indicating if the basketball shoe is suitable for hardwood surfaces\\', \\'RUBBERIZED SURFACE\\': \\'boolean indicating if the basketball shoe is suitable for rubberized surfaces\\', \\'ASPHALT SURFACE\\': \\'boolean indicating if the basketball shoe is suitable for outdoor asphalt surfaces\\'}\\n\\nDetermine:\\n1. Which column(s) should be **ranked** (sorted), and in what direction (asc/desc).\\n2. Which column(s) should be **filtered**, and the filter condition (e.g., < 150). **Only** filter columns if the query explicitly mentions them, you should not implicitly filter but sort.\\n\\nReturn a valid Python dictionary like this:\\n{{\\n  \"ranking\": [\\n    {{\"column\": \"Weight oz/g\", \"sort\": \"asc\"}},\\n    {{\"column\": \"Cushioning Score\", \"sort\": \"desc\"}}\\n  ],\\n  \"filters\": [\\n    {{\"column\": \"Price\", \"op\": \"<\", \"value\": 150}}\\n  ]\\n}}\\n\\nand an explanation of your reasoning.\\nUser query: \"Lightweight basketball shoes\"\\n'"
      ]
     },
     "execution_count": 77,
     "metadata": {},
     "output_type": "execute_result"
    }
   ],
   "source": [
    "prompt_template.format(columns = COLUMN_DESCRIPTIONS, query = \"Lightweight basketball shoes\")"
   ]
  },
  {
   "cell_type": "code",
   "execution_count": 17,
   "id": "ad3dafe3",
   "metadata": {},
   "outputs": [],
   "source": [
    "llm_kwargs = {'model': 'gpt-4o-mini', 'request_timeout': 360.0, 'temperature': 0.1}\n",
    "file_path = 'data/2025 HOOP SHEET PROCESSED.csv'\n",
    "Settings.llm = OpenAI(**llm_kwargs)\n",
    "Settings.embed_model = HuggingFaceEmbedding(model_name=\"jinaai/jina-embeddings-v3\", trust_remote_code=True)\n",
    "\n",
    "shoe_recommender_tool = ShoeRecommenderEngine(file_path, llm_kwargs).as_tool()\n",
    "shoe_retrieval_tool = ShoeRetrieval(file_path).as_tool()\n",
    "\n",
    "shoe_recommender_agent = FunctionAgent(name = \"shoe_recommender_agent\",\n",
    "                                description = \"An agent capable of recommending basketball shoes based on user's preference using recommender tool.\",\n",
    "                                system_prompt = \"You are a helpful assistant that recommends basketball shoes with clear explanationbased on user's preference using recommender tool. Handoff to shoe_retrieval_agent when specific shoe name(s) is given.\",\n",
    "                                tools = [shoe_recommender_tool],\n",
    "                                can_handoff_to = [\"shoe_retrieval_agent\"]\n",
    "                                )\n",
    "shoe_retrieval_agent = FunctionAgent(name = \"shoe_retrieval_agent\",\n",
    "                                description = \"An agent capable of retrieving specs given basketball shoe name(s) and discuss the performance of the shoe(s). \"\\\n",
    "                                    \"If multiple shoes are given, the agent should discuss the performance of each shoe one by one and compare them. This agent should be used **ONLY** when the shoe name(s) is given by the user.\",\n",
    "                                system_prompt = \"You are a helpful assistant that retrieves specs given basketball shoe name(s) and discuss the performance of the shoe(s) \"\\\n",
    "                                    \"If multiple shoes are given, the agent should discuss the performance of each shoe one by one and compare them. Use global_median_values as a reference of the average shoes' performance\" \\\n",
    "                                    \"Handoff to shoe_recommender_agent when the user asks for recommendations without specific shoe name(s).\",\n",
    "                                tools = [shoe_retrieval_tool],\n",
    "                                can_handoff_to = [\"shoe_recommender_agent\"]\n",
    "                                )\n",
    "workflow = AgentWorkflow(agents = [shoe_recommender_agent, shoe_retrieval_agent], root_agent = 'shoe_recommender_agent',initial_state = {\"recommendations\": []})\n",
    "\n",
    "context = Context(workflow)"
   ]
  },
  {
   "cell_type": "code",
   "execution_count": 18,
   "id": "c25e4751",
   "metadata": {},
   "outputs": [],
   "source": [
    "response = await workflow.run(\"Compare adidas select 2.0 and 3.0\", ctx = context)"
   ]
  },
  {
   "cell_type": "code",
   "execution_count": 19,
   "id": "b966c7b9",
   "metadata": {},
   "outputs": [
    {
     "data": {
      "text/plain": [
       "'### Comparison of Adidas Select 2.0 and 3.0\\n\\n#### Adidas Select 2.0\\n- **Weight**: 13.0 oz\\n- **Heel Height**: 1.9 cm\\n- **Bounce Height Average**: 29.5 cm\\n- **Heel-Ball Drop**: 0.8 cm\\n- **30 Sec Heating (F)**: 105.3°F\\n- **Degree of Slip**: 43.0°\\n- **Shank Score**: 0.3\\n- **Speed Ratio**: 2.57\\n- **Overall Rating Score**: 30.0/40\\n- **Midsole Foam**: ETPU\\n- **Containment**: 4.0/5\\n- **Bounce**: 3.5/5\\n- **Shock Absorption**: 3.5/5\\n- **Speed**: 4.0/5\\n- **Durability**: 3.5/5\\n- **Comfort**: 4.0/5\\n- **Support**: 3.5/5\\n- **Playability**: 4.0/5\\n- **Fits Orthotics**: Yes\\n- **Arch Types Supported**: Flat, Neutral, High\\n\\n#### Adidas Select 3.0\\n- **Weight**: 13.25 oz\\n- **Heel Height**: 2.8 cm\\n- **Bounce Height Average**: 31.5 cm\\n- **Heel-Ball Drop**: 1.0 cm\\n- **30 Sec Heating (F)**: 97.0°F\\n- **Degree of Slip**: 43.0°\\n- **Shank Score**: 0.4\\n- **Speed Ratio**: 2.78\\n- **Overall Rating Score**: 32.0/40\\n- **Midsole Foam**: Not specified\\n- **Containment**: 4.0/5\\n- **Bounce**: 4.0/5\\n- **Shock Absorption**: 3.5/5\\n- **Speed**: 4.5/5\\n- **Durability**: 4.0/5\\n- **Comfort**: 4.0/5\\n- **Support**: 4.0/5\\n- **Playability**: 4.0/5\\n- **Fits Orthotics**: Yes\\n- **Arch Types Supported**: None specified\\n\\n### Performance Analysis\\n\\n1. **Weight**: The Select 2.0 is slightly lighter than the Select 3.0, which may provide a marginal advantage in speed and agility.\\n\\n2. **Heel Height and Drop**: The Select 3.0 has a higher heel height and a slightly greater heel-ball drop, which can provide more cushioning but may reduce court feel compared to the Select 2.0.\\n\\n3. **Bounce Height**: The Select 3.0 offers a higher bounce height average, indicating better responsiveness and energy return during jumps.\\n\\n4. **Speed Ratio**: The Select 3.0 has a better speed ratio, suggesting it may perform better in fast-paced situations.\\n\\n5. **Overall Rating**: The Select 3.0 scores slightly higher overall, indicating better performance metrics across various categories.\\n\\n6. **Comfort and Support**: Both shoes provide good comfort and support, but the Select 3.0 has a slight edge in support and durability.\\n\\n7. **Temperature and Breathability**: The Select 2.0 has a higher internal temperature after heating, which may indicate better breathability compared to the Select 3.0.\\n\\n### Conclusion\\nBoth shoes are solid options, but the **Adidas Select 3.0** generally outperforms the **Select 2.0** in terms of responsiveness, speed, and overall rating. However, if weight and breathability are your primary concerns, the Select 2.0 might be the better choice.'"
      ]
     },
     "execution_count": 19,
     "metadata": {},
     "output_type": "execute_result"
    }
   ],
   "source": [
    "response.response.content"
   ]
  },
  {
   "cell_type": "code",
   "execution_count": 33,
   "id": "75d1b02b",
   "metadata": {},
   "outputs": [
    {
     "name": "stderr",
     "output_type": "stream",
     "text": [
      "/var/folders/5t/2k2m5syx3c53jbnddp_f19c00000gn/T/ipykernel_36846/1026804887.py:1: DeprecationWarning: `data` is deprecated, please use the `get` and `set` method to store data into the Context.\n",
      "  context.data['memory'].get('text')\n"
     ]
    },
    {
     "data": {
      "text/plain": [
       "[ChatMessage(role=<MessageRole.USER: 'user'>, additional_kwargs={}, blocks=[TextBlock(block_type='text', text=\"Current state:\\n{'recommendations': []}\\n\\nCurrent message:\\nCompare adidas select 2.0 and 3.0\\n\")]),\n",
       " ChatMessage(role=<MessageRole.ASSISTANT: 'assistant'>, additional_kwargs={'tool_calls': [ChoiceDeltaToolCall(index=0, id='call_Bntx2VFnOBcr0rd26XyG3kTI', function=ChoiceDeltaToolCallFunction(arguments='{\"to_agent\":\"shoe_retrieval_agent\",\"reason\":\"User has provided specific shoe names for comparison.\"}', name='handoff'), type='function')]}, blocks=[TextBlock(block_type='text', text='')]),\n",
       " ChatMessage(role=<MessageRole.TOOL: 'tool'>, additional_kwargs={'tool_call_id': 'call_Bntx2VFnOBcr0rd26XyG3kTI'}, blocks=[TextBlock(block_type='text', text='Agent shoe_retrieval_agent is now handling the request due to the following reason: User has provided specific shoe names for comparison..\\nPlease continue with the current request.')]),\n",
       " ChatMessage(role=<MessageRole.ASSISTANT: 'assistant'>, additional_kwargs={'tool_calls': [ChoiceDeltaToolCall(index=0, id='call_QVG7RWzp2rcrfmtezVzuOzSS', function=ChoiceDeltaToolCallFunction(arguments='{\"names\": [\"adidas select 2.0\"]}', name='shoe_retriever'), type='function'), ChoiceDeltaToolCall(index=1, id='call_za5c5B2gHl28ZGVMpVFSPLDq', function=ChoiceDeltaToolCallFunction(arguments='{\"names\": [\"adidas select 3.0\"]}', name='shoe_retriever'), type='function')]}, blocks=[TextBlock(block_type='text', text='')]),\n",
       " ChatMessage(role=<MessageRole.TOOL: 'tool'>, additional_kwargs={'tool_call_id': 'call_QVG7RWzp2rcrfmtezVzuOzSS'}, blocks=[TextBlock(block_type='text', text='{\\'shoes_specs\\': \"NAME: ADIDAS ADIZERO SELECT 2\\\\n30 SEC HEATING (F) (INTERNAL): 105.3\\\\nBOUNCE HEIGHT AVERAGE (cm): 29.5\\\\nHEEL HEIGHT (cm): 1.9\\\\nHEEL-BALL DROP (cm): 0.8\\\\nWEIGHT oz (US MEN\\'S 11): 13.0\\\\nDEGREE OF SLIP: 43.0\\\\nSHANK SCORE: 0.3\\\\nSPEED RATIO: 2.57\\\\nDUROMETER: 16.3\\\\nLAST SHAPE (DEGREE OF INFLARE): 10\\\\nLENGTH (cm): 28.9\\\\nMETATARSAL WIDTH(cm): 9.2\\\\nTOEBOX WIDTH(cm): \\\\nTOE BOX TAPER (DEGREES): \\\\nRESTING POSITION (DEGREES OF EVERSION): \\\\nLOADED POSITION (DEGREES OF EVERSION): \\\\nHEEL WIDTH (cm): \\\\nNARROWEST MIDFOOT MEASUREMENT (cm): \\\\nOVERALL RATING SCORE: 30.0\\\\nMIDSOLE FOAM: ETPU\\\\nSHANK MATERIAL: PLASTIC\\\\nUPPER DURABILITY 0 = NOT THROUGH 1ST LAYER 1 = THROUGH 1ST LAYER: 1.0\\\\nOUTSOLE DURABILITY: 1mm\\\\nCONTAINMENT: 4.0\\\\nBOUNCE: 3.5\\\\nSHOCK ABSORPTION: 3.5\\\\nSPEED: 4.0\\\\nDURABILITY: 3.5\\\\nCOMFORT: 4.0\\\\nSUPPORT: 3.5\\\\nPLAYABILITY: 4.0\\\\nFITS ORTHOTICS: True\\\\nFLAT ARCH: True\\\\nNEUTRAL ARCH: True\\\\nHIGH ARCH: True\\\\nHARDWOOD SURFACE: False\\\\nRUBBERIZED SURFACE: True\\\\nASPHALT SURFACE: False\\\\nFOREFOOT HEIGHT (cm): 1.0999999999999999\", \\'global_median_values\\': {\\'30 SEC HEATING (F) (INTERNAL)\\': 109.3, \\'BOUNCE HEIGHT AVERAGE (cm)\\': 37.625, \\'HEEL HEIGHT (cm)\\': 2.4, \\'HEEL-BALL DROP (cm)\\': 0.8, \"WEIGHT oz (US MEN\\'S 11)\": 14.92, \\'DEGREE OF SLIP\\': 41.0, \\'SHANK SCORE\\': 0.2, \\'SPEED RATIO\\': 2.7, \\'LENGTH (cm)\\': 28.8, \\'METATARSAL WIDTH(cm)\\': 9.2, \\'TOEBOX WIDTH(cm)\\': 10.4, \\'TOE BOX TAPER (DEGREES)\\': 28.0, \\'RESTING POSITION (DEGREES OF EVERSION)\\': 1.5, \\'LOADED POSITION (DEGREES OF EVERSION)\\': 5.0, \\'HEEL WIDTH (cm)\\': 6.449999999999999, \\'NARROWEST MIDFOOT MEASUREMENT (cm)\\': 6.5, \\'OVERALL RATING SCORE\\': 33.0, \\'UPPER DURABILITY 0 = NOT THROUGH 1ST LAYER 1 = THROUGH 1ST LAYER\\': 0.0, \\'CONTAINMENT\\': 4.5, \\'BOUNCE\\': 4.0, \\'SHOCK ABSORPTION\\': 4.5, \\'SPEED\\': 4.0, \\'DURABILITY\\': 4.0, \\'COMFORT\\': 4.0, \\'SUPPORT\\': 4.0, \\'PLAYABILITY\\': 4.0, \\'FITS ORTHOTICS\\': 1.0, \\'FLAT ARCH\\': 1.0, \\'NEUTRAL ARCH\\': 1.0, \\'HIGH ARCH\\': 1.0, \\'HARDWOOD SURFACE\\': 1.0, \\'RUBBERIZED SURFACE\\': 0.0, \\'ASPHALT SURFACE\\': 0.0, \\'FOREFOOT HEIGHT (cm)\\': 1.6}, \\'column_descriptions\\': {\\'NAME\\': \\'brand + model name of the basketball shoe\\', \\'30 SEC HEATING (F) (INTERNAL)\\': \\'internal temperature after 30 seconds of heating, indicating breathability or ventilation\\', \\'BOUNCE HEIGHT AVERAGE (cm)\\': \\'average bounce height on the midsole\\', \\'HEEL HEIGHT (cm)\\': \\'height of the heel from the ground\\', \\'FOREFOOT HEIGHT (cm)\\': \\'height of the forefoot from the ground, lower indicating more court feeling\\', \\'HEEL-BALL DROP (cm)\\': \\'difference in height between heel and forefoot of the basketball shoe, higher indicating more achilles relief but less court feel\\', \"WEIGHT oz (US MEN\\'S 11)\": \\'weight of the basketball shoe in ounces\\', \\'DEGREE OF SLIP\\': \\'angle of incline at which the basketball shoe begins to slip\\', \\'SHANK SCORE\\': \\'score based on the shank material and design for torsional stability\\', \\'SPEED RATIO\\': \\'ratio of speed given the bounce height, weight and shank\\', \\'DUROMETER\\': \\'durometer score indicating the hardness of the outsole\\', \\'LAST SHAPE (DEGREE OF INFLARE)\\': \\'degree of inflare of the last shape\\', \\'LENGTH (cm)\\': \\'outsole length given the same size\\', \\'METATARSAL WIDTH(cm)\\': \\'width of the basketball shoe at the metatarsal area\\', \\'TOEBOX WIDTH(cm)\\': \\'width of the basketball shoe at the toe box\\', \\'OVERALL RATING SCORE\\': \\'overall rating score based on various performance metrics out of 40\\', \\'MIDSOLE FOAM\\': \\'type of midsole foam used in the basketball shoe\\', \\'SHANK MATERIAL\\': \\'material used for the shank of the basketball shoe\\', \\'CONTAINMENT\\': \\'how well the basketball shoe contains the foot during movement out of 5\\', \\'BOUNCE\\': \\'bounce score indicating the responsiveness of the basketball shoe out of 5\\', \\'SHOCK ABSORPTION\\': \\'shock absorption score indicating how well the basketball shoe absorbs impact out of 5\\', \\'SPEED\\': \\'speed score indicating how fast the basketball shoe can perform out of 5\\', \\'DURABILITY\\': \\'durability score indicating how long the basketball shoe lasts out of 5\\', \\'COMFORT\\': \\'comfort score indicating how comfortable the basketball shoe is to wear out of 5\\', \\'SUPPORT\\': \\'support score indicating how well the basketball shoe supports the foot out of 5\\', \\'PLAYABILITY\\': \\'playability score indicating how versatile the basketball shoe is for different types of play out of 5\\', \\'FITS ORTHOTICS\\': \\'boolean indicating if the basketball shoe fits orthotics\\', \\'FLAT ARCH\\': \\'boolean indicating if the basketball shoe is designed for flat arches\\', \\'NEUTRAL ARCH\\': \\'boolean indicating if the basketball shoe is designed for neutral arches\\', \\'HIGH ARCH\\': \\'boolean indicating if the basketball shoe is designed for high arches\\', \\'HARDWOOD SURFACE\\': \\'boolean indicating if the basketball shoe is suitable for hardwood surfaces\\', \\'RUBBERIZED SURFACE\\': \\'boolean indicating if the basketball shoe is suitable for rubberized surfaces\\', \\'ASPHALT SURFACE\\': \\'boolean indicating if the basketball shoe is suitable for outdoor asphalt surfaces\\'}}')]),\n",
       " ChatMessage(role=<MessageRole.TOOL: 'tool'>, additional_kwargs={'tool_call_id': 'call_za5c5B2gHl28ZGVMpVFSPLDq'}, blocks=[TextBlock(block_type='text', text='{\\'shoes_specs\\': \"NAME: ADIDAS ADIZERO SELECT 3.0\\\\n30 SEC HEATING (F) (INTERNAL): 97.0\\\\nBOUNCE HEIGHT AVERAGE (cm): 31.5\\\\nHEEL HEIGHT (cm): 2.8\\\\nHEEL-BALL DROP (cm): 1.0\\\\nWEIGHT oz (US MEN\\'S 11): 13.25\\\\nDEGREE OF SLIP: 43.0\\\\nSHANK SCORE: 0.4\\\\nSPEED RATIO: 2.78\\\\nDUROMETER: 19.2\\\\nLAST SHAPE (DEGREE OF INFLARE): 10\\\\nLENGTH (cm): 29.2\\\\nMETATARSAL WIDTH(cm): 10.0\\\\nTOEBOX WIDTH(cm): 11.0\\\\nTOE BOX TAPER (DEGREES): 26.0\\\\nRESTING POSITION (DEGREES OF EVERSION): 0.0\\\\nLOADED POSITION (DEGREES OF EVERSION): 0.0\\\\nHEEL WIDTH (cm): \\\\nNARROWEST MIDFOOT MEASUREMENT (cm): \\\\nOVERALL RATING SCORE: 32.0\\\\nMIDSOLE FOAM: \\\\nSHANK MATERIAL: \\\\nUPPER DURABILITY 0 = NOT THROUGH 1ST LAYER 1 = THROUGH 1ST LAYER: \\\\nOUTSOLE DURABILITY: \\\\nCONTAINMENT: 4.0\\\\nBOUNCE: 4.0\\\\nSHOCK ABSORPTION: 3.5\\\\nSPEED: 4.5\\\\nDURABILITY: 4.0\\\\nCOMFORT: 4.0\\\\nSUPPORT: 4.0\\\\nPLAYABILITY: 4.0\\\\nFITS ORTHOTICS: True\\\\nFLAT ARCH: False\\\\nNEUTRAL ARCH: False\\\\nHIGH ARCH: False\\\\nHARDWOOD SURFACE: False\\\\nRUBBERIZED SURFACE: False\\\\nASPHALT SURFACE: False\\\\nFOREFOOT HEIGHT (cm): 1.7999999999999998\", \\'global_median_values\\': {\\'30 SEC HEATING (F) (INTERNAL)\\': 109.3, \\'BOUNCE HEIGHT AVERAGE (cm)\\': 37.625, \\'HEEL HEIGHT (cm)\\': 2.4, \\'HEEL-BALL DROP (cm)\\': 0.8, \"WEIGHT oz (US MEN\\'S 11)\": 14.92, \\'DEGREE OF SLIP\\': 41.0, \\'SHANK SCORE\\': 0.2, \\'SPEED RATIO\\': 2.7, \\'LENGTH (cm)\\': 28.8, \\'METATARSAL WIDTH(cm)\\': 9.2, \\'TOEBOX WIDTH(cm)\\': 10.4, \\'TOE BOX TAPER (DEGREES)\\': 28.0, \\'RESTING POSITION (DEGREES OF EVERSION)\\': 1.5, \\'LOADED POSITION (DEGREES OF EVERSION)\\': 5.0, \\'HEEL WIDTH (cm)\\': 6.449999999999999, \\'NARROWEST MIDFOOT MEASUREMENT (cm)\\': 6.5, \\'OVERALL RATING SCORE\\': 33.0, \\'UPPER DURABILITY 0 = NOT THROUGH 1ST LAYER 1 = THROUGH 1ST LAYER\\': 0.0, \\'CONTAINMENT\\': 4.5, \\'BOUNCE\\': 4.0, \\'SHOCK ABSORPTION\\': 4.5, \\'SPEED\\': 4.0, \\'DURABILITY\\': 4.0, \\'COMFORT\\': 4.0, \\'SUPPORT\\': 4.0, \\'PLAYABILITY\\': 4.0, \\'FITS ORTHOTICS\\': 1.0, \\'FLAT ARCH\\': 1.0, \\'NEUTRAL ARCH\\': 1.0, \\'HIGH ARCH\\': 1.0, \\'HARDWOOD SURFACE\\': 1.0, \\'RUBBERIZED SURFACE\\': 0.0, \\'ASPHALT SURFACE\\': 0.0, \\'FOREFOOT HEIGHT (cm)\\': 1.6}, \\'column_descriptions\\': {\\'NAME\\': \\'brand + model name of the basketball shoe\\', \\'30 SEC HEATING (F) (INTERNAL)\\': \\'internal temperature after 30 seconds of heating, indicating breathability or ventilation\\', \\'BOUNCE HEIGHT AVERAGE (cm)\\': \\'average bounce height on the midsole\\', \\'HEEL HEIGHT (cm)\\': \\'height of the heel from the ground\\', \\'FOREFOOT HEIGHT (cm)\\': \\'height of the forefoot from the ground, lower indicating more court feeling\\', \\'HEEL-BALL DROP (cm)\\': \\'difference in height between heel and forefoot of the basketball shoe, higher indicating more achilles relief but less court feel\\', \"WEIGHT oz (US MEN\\'S 11)\": \\'weight of the basketball shoe in ounces\\', \\'DEGREE OF SLIP\\': \\'angle of incline at which the basketball shoe begins to slip\\', \\'SHANK SCORE\\': \\'score based on the shank material and design for torsional stability\\', \\'SPEED RATIO\\': \\'ratio of speed given the bounce height, weight and shank\\', \\'DUROMETER\\': \\'durometer score indicating the hardness of the outsole\\', \\'LAST SHAPE (DEGREE OF INFLARE)\\': \\'degree of inflare of the last shape\\', \\'LENGTH (cm)\\': \\'outsole length given the same size\\', \\'METATARSAL WIDTH(cm)\\': \\'width of the basketball shoe at the metatarsal area\\', \\'TOEBOX WIDTH(cm)\\': \\'width of the basketball shoe at the toe box\\', \\'OVERALL RATING SCORE\\': \\'overall rating score based on various performance metrics out of 40\\', \\'MIDSOLE FOAM\\': \\'type of midsole foam used in the basketball shoe\\', \\'SHANK MATERIAL\\': \\'material used for the shank of the basketball shoe\\', \\'CONTAINMENT\\': \\'how well the basketball shoe contains the foot during movement out of 5\\', \\'BOUNCE\\': \\'bounce score indicating the responsiveness of the basketball shoe out of 5\\', \\'SHOCK ABSORPTION\\': \\'shock absorption score indicating how well the basketball shoe absorbs impact out of 5\\', \\'SPEED\\': \\'speed score indicating how fast the basketball shoe can perform out of 5\\', \\'DURABILITY\\': \\'durability score indicating how long the basketball shoe lasts out of 5\\', \\'COMFORT\\': \\'comfort score indicating how comfortable the basketball shoe is to wear out of 5\\', \\'SUPPORT\\': \\'support score indicating how well the basketball shoe supports the foot out of 5\\', \\'PLAYABILITY\\': \\'playability score indicating how versatile the basketball shoe is for different types of play out of 5\\', \\'FITS ORTHOTICS\\': \\'boolean indicating if the basketball shoe fits orthotics\\', \\'FLAT ARCH\\': \\'boolean indicating if the basketball shoe is designed for flat arches\\', \\'NEUTRAL ARCH\\': \\'boolean indicating if the basketball shoe is designed for neutral arches\\', \\'HIGH ARCH\\': \\'boolean indicating if the basketball shoe is designed for high arches\\', \\'HARDWOOD SURFACE\\': \\'boolean indicating if the basketball shoe is suitable for hardwood surfaces\\', \\'RUBBERIZED SURFACE\\': \\'boolean indicating if the basketball shoe is suitable for rubberized surfaces\\', \\'ASPHALT SURFACE\\': \\'boolean indicating if the basketball shoe is suitable for outdoor asphalt surfaces\\'}}')]),\n",
       " ChatMessage(role=<MessageRole.ASSISTANT: 'assistant'>, additional_kwargs={}, blocks=[TextBlock(block_type='text', text='### Comparison of Adidas Select 2.0 and 3.0\\n\\n#### Adidas Select 2.0\\n- **Weight**: 13.0 oz\\n- **Heel Height**: 1.9 cm\\n- **Bounce Height Average**: 29.5 cm\\n- **Heel-Ball Drop**: 0.8 cm\\n- **30 Sec Heating (F)**: 105.3°F\\n- **Degree of Slip**: 43.0°\\n- **Shank Score**: 0.3\\n- **Speed Ratio**: 2.57\\n- **Overall Rating Score**: 30.0/40\\n- **Midsole Foam**: ETPU\\n- **Containment**: 4.0/5\\n- **Bounce**: 3.5/5\\n- **Shock Absorption**: 3.5/5\\n- **Speed**: 4.0/5\\n- **Durability**: 3.5/5\\n- **Comfort**: 4.0/5\\n- **Support**: 3.5/5\\n- **Playability**: 4.0/5\\n- **Fits Orthotics**: Yes\\n- **Arch Types Supported**: Flat, Neutral, High\\n\\n#### Adidas Select 3.0\\n- **Weight**: 13.25 oz\\n- **Heel Height**: 2.8 cm\\n- **Bounce Height Average**: 31.5 cm\\n- **Heel-Ball Drop**: 1.0 cm\\n- **30 Sec Heating (F)**: 97.0°F\\n- **Degree of Slip**: 43.0°\\n- **Shank Score**: 0.4\\n- **Speed Ratio**: 2.78\\n- **Overall Rating Score**: 32.0/40\\n- **Midsole Foam**: Not specified\\n- **Containment**: 4.0/5\\n- **Bounce**: 4.0/5\\n- **Shock Absorption**: 3.5/5\\n- **Speed**: 4.5/5\\n- **Durability**: 4.0/5\\n- **Comfort**: 4.0/5\\n- **Support**: 4.0/5\\n- **Playability**: 4.0/5\\n- **Fits Orthotics**: Yes\\n- **Arch Types Supported**: None specified\\n\\n### Performance Analysis\\n\\n1. **Weight**: The Select 2.0 is slightly lighter than the Select 3.0, which may provide a marginal advantage in speed and agility.\\n\\n2. **Heel Height and Drop**: The Select 3.0 has a higher heel height and a slightly greater heel-ball drop, which can provide more cushioning but may reduce court feel compared to the Select 2.0.\\n\\n3. **Bounce Height**: The Select 3.0 offers a higher bounce height average, indicating better responsiveness and energy return during jumps.\\n\\n4. **Speed Ratio**: The Select 3.0 has a better speed ratio, suggesting it may perform better in fast-paced situations.\\n\\n5. **Overall Rating**: The Select 3.0 scores slightly higher overall, indicating better performance metrics across various categories.\\n\\n6. **Comfort and Support**: Both shoes provide good comfort and support, but the Select 3.0 has a slight edge in support and durability.\\n\\n7. **Temperature and Breathability**: The Select 2.0 has a higher internal temperature after heating, which may indicate better breathability compared to the Select 3.0.\\n\\n### Conclusion\\nBoth shoes are solid options, but the **Adidas Select 3.0** generally outperforms the **Select 2.0** in terms of responsiveness, speed, and overall rating. However, if weight and breathability are your primary concerns, the Select 2.0 might be the better choice.')])]"
      ]
     },
     "execution_count": 33,
     "metadata": {},
     "output_type": "execute_result"
    }
   ],
   "source": [
    "context.data['memory'].get('text')"
   ]
  },
  {
   "cell_type": "code",
   "execution_count": null,
   "id": "184ef44d",
   "metadata": {},
   "outputs": [],
   "source": []
  }
 ],
 "metadata": {
  "kernelspec": {
   "display_name": ".venv",
   "language": "python",
   "name": "python3"
  },
  "language_info": {
   "codemirror_mode": {
    "name": "ipython",
    "version": 3
   },
   "file_extension": ".py",
   "mimetype": "text/x-python",
   "name": "python",
   "nbconvert_exporter": "python",
   "pygments_lexer": "ipython3",
   "version": "3.13.3"
  }
 },
 "nbformat": 4,
 "nbformat_minor": 5
}
